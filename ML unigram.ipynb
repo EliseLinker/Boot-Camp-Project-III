{
 "cells": [
  {
   "cell_type": "code",
   "execution_count": 1,
   "metadata": {
    "collapsed": true
   },
   "outputs": [],
   "source": [
    "import pickle\n",
    "from sklearn.feature_extraction.text import TfidfVectorizer\n",
    "import seaborn as sns\n",
    "from sklearn.cluster import KMeans\n",
    "from sklearn.preprocessing import StandardScaler\n",
    "from sklearn.preprocessing import LabelEncoder, OneHotEncoder\n",
    "import pandas as pd\n",
    "import numpy as np\n",
    "import matplotlib.pyplot as plt"
   ]
  },
  {
   "cell_type": "code",
   "execution_count": 17,
   "metadata": {},
   "outputs": [
    {
     "data": {
      "text/html": [
       "<div>\n",
       "<style scoped>\n",
       "    .dataframe tbody tr th:only-of-type {\n",
       "        vertical-align: middle;\n",
       "    }\n",
       "\n",
       "    .dataframe tbody tr th {\n",
       "        vertical-align: top;\n",
       "    }\n",
       "\n",
       "    .dataframe thead th {\n",
       "        text-align: right;\n",
       "    }\n",
       "</style>\n",
       "<table border=\"1\" class=\"dataframe\">\n",
       "  <thead>\n",
       "    <tr style=\"text-align: right;\">\n",
       "      <th></th>\n",
       "      <th>points</th>\n",
       "      <th>title</th>\n",
       "      <th>description</th>\n",
       "      <th>taster_name</th>\n",
       "      <th>taster_twitter_handle</th>\n",
       "      <th>price</th>\n",
       "      <th>designation</th>\n",
       "      <th>variety</th>\n",
       "      <th>region_1</th>\n",
       "      <th>region_2</th>\n",
       "      <th>province</th>\n",
       "      <th>country</th>\n",
       "      <th>winery</th>\n",
       "    </tr>\n",
       "  </thead>\n",
       "  <tbody>\n",
       "    <tr>\n",
       "      <th>0</th>\n",
       "      <td>84</td>\n",
       "      <td>Broke Ass 2009 Red Malbec-Syrah (Mendoza)</td>\n",
       "      <td>Crimson in color but also translucent, with a ...</td>\n",
       "      <td>Michael Schachner</td>\n",
       "      <td>@wineschach</td>\n",
       "      <td>4.0</td>\n",
       "      <td>Red</td>\n",
       "      <td>Malbec-Syrah</td>\n",
       "      <td>Mendoza</td>\n",
       "      <td>NaN</td>\n",
       "      <td>Mendoza Province</td>\n",
       "      <td>Argentina</td>\n",
       "      <td>Broke Ass</td>\n",
       "    </tr>\n",
       "    <tr>\n",
       "      <th>1</th>\n",
       "      <td>84</td>\n",
       "      <td>Terrenal 2010 Cabernet Sauvignon (Yecla)</td>\n",
       "      <td>This opens with standard cherry and berry arom...</td>\n",
       "      <td>Michael Schachner</td>\n",
       "      <td>@wineschach</td>\n",
       "      <td>4.0</td>\n",
       "      <td>NaN</td>\n",
       "      <td>Cabernet Sauvignon</td>\n",
       "      <td>Yecla</td>\n",
       "      <td>NaN</td>\n",
       "      <td>Levante</td>\n",
       "      <td>Spain</td>\n",
       "      <td>Terrenal</td>\n",
       "    </tr>\n",
       "    <tr>\n",
       "      <th>2</th>\n",
       "      <td>86</td>\n",
       "      <td>Cramele Recas 2011 UnWineD Pinot Grigio (Viile...</td>\n",
       "      <td>Notes of sun-dried hay and green flower highli...</td>\n",
       "      <td>Anna Lee C. Iijima</td>\n",
       "      <td>NaN</td>\n",
       "      <td>4.0</td>\n",
       "      <td>UnWineD</td>\n",
       "      <td>Pinot Grigio</td>\n",
       "      <td>NaN</td>\n",
       "      <td>NaN</td>\n",
       "      <td>Viile Timisului</td>\n",
       "      <td>Romania</td>\n",
       "      <td>Cramele Recas</td>\n",
       "    </tr>\n",
       "    <tr>\n",
       "      <th>3</th>\n",
       "      <td>86</td>\n",
       "      <td>Bandit NV Merlot (California)</td>\n",
       "      <td>There's a lot going on in this Merlot, which i...</td>\n",
       "      <td>NaN</td>\n",
       "      <td>NaN</td>\n",
       "      <td>4.0</td>\n",
       "      <td>NaN</td>\n",
       "      <td>Merlot</td>\n",
       "      <td>California</td>\n",
       "      <td>California Other</td>\n",
       "      <td>California</td>\n",
       "      <td>United States</td>\n",
       "      <td>Bandit</td>\n",
       "    </tr>\n",
       "    <tr>\n",
       "      <th>4</th>\n",
       "      <td>82</td>\n",
       "      <td>Felix Solis 2012 Flirty Bird White (Vino de la...</td>\n",
       "      <td>Tropical fruit and citrus aromas aren't bad, b...</td>\n",
       "      <td>Michael Schachner</td>\n",
       "      <td>@wineschach</td>\n",
       "      <td>4.0</td>\n",
       "      <td>Flirty Bird</td>\n",
       "      <td>White Blend</td>\n",
       "      <td>Vino de la Tierra de Castilla</td>\n",
       "      <td>NaN</td>\n",
       "      <td>Central Spain</td>\n",
       "      <td>Spain</td>\n",
       "      <td>Felix Solis</td>\n",
       "    </tr>\n",
       "  </tbody>\n",
       "</table>\n",
       "</div>"
      ],
      "text/plain": [
       "   points                                              title  \\\n",
       "0      84          Broke Ass 2009 Red Malbec-Syrah (Mendoza)   \n",
       "1      84           Terrenal 2010 Cabernet Sauvignon (Yecla)   \n",
       "2      86  Cramele Recas 2011 UnWineD Pinot Grigio (Viile...   \n",
       "3      86                      Bandit NV Merlot (California)   \n",
       "4      82  Felix Solis 2012 Flirty Bird White (Vino de la...   \n",
       "\n",
       "                                         description         taster_name  \\\n",
       "0  Crimson in color but also translucent, with a ...   Michael Schachner   \n",
       "1  This opens with standard cherry and berry arom...   Michael Schachner   \n",
       "2  Notes of sun-dried hay and green flower highli...  Anna Lee C. Iijima   \n",
       "3  There's a lot going on in this Merlot, which i...                 NaN   \n",
       "4  Tropical fruit and citrus aromas aren't bad, b...   Michael Schachner   \n",
       "\n",
       "  taster_twitter_handle  price  designation             variety  \\\n",
       "0           @wineschach    4.0          Red        Malbec-Syrah   \n",
       "1           @wineschach    4.0          NaN  Cabernet Sauvignon   \n",
       "2                   NaN    4.0      UnWineD        Pinot Grigio   \n",
       "3                   NaN    4.0          NaN              Merlot   \n",
       "4           @wineschach    4.0  Flirty Bird         White Blend   \n",
       "\n",
       "                        region_1          region_2          province  \\\n",
       "0                        Mendoza               NaN  Mendoza Province   \n",
       "1                          Yecla               NaN           Levante   \n",
       "2                            NaN               NaN   Viile Timisului   \n",
       "3                     California  California Other        California   \n",
       "4  Vino de la Tierra de Castilla               NaN     Central Spain   \n",
       "\n",
       "         country         winery  \n",
       "0      Argentina      Broke Ass  \n",
       "1          Spain       Terrenal  \n",
       "2        Romania  Cramele Recas  \n",
       "3  United States         Bandit  \n",
       "4          Spain    Felix Solis  "
      ]
     },
     "execution_count": 17,
     "metadata": {},
     "output_type": "execute_result"
    }
   ],
   "source": [
    "#Import data\n",
    "wine_df = pd.read_csv('static/data/winemag.csv')\n",
    "wine_df.head(5)"
   ]
  },
  {
   "cell_type": "code",
   "execution_count": 18,
   "metadata": {},
   "outputs": [
    {
     "name": "stderr",
     "output_type": "stream",
     "text": [
      "/Users/alexandriacabello/anaconda3/lib/python3.6/site-packages/seaborn/categorical.py:1460: FutureWarning: remove_na is deprecated and is a private function. Do not use.\n",
      "  stat_data = remove_na(group_data)\n"
     ]
    },
    {
     "data": {
      "image/png": "[encoded data removed]",
      "text/plain": [
       "<matplotlib.figure.Figure at 0x11cfb8550>"
      ]
     },
     "metadata": {},
     "output_type": "display_data"
    }
   ],
   "source": [
    "v_df = wine_df.groupby('variety').filter(lambda x: len(x) > 2200)\n",
    "varieties = v_df['variety'].value_counts().index.tolist()\n",
    "fig, ax = plt.subplots(figsize = (25, 10))\n",
    "sns.countplot(x = v_df['variety'], order = varieties, ax = ax, color = 'coral')\n",
    "plt.xticks(rotation = 90)\n",
    "plt.show()"
   ]
  },
  {
   "cell_type": "code",
   "execution_count": 5,
   "metadata": {},
   "outputs": [],
   "source": [
    "filename = 'kmeansmodel.pk'\n",
    "with open(filename, 'rb') as fh:\n",
    "   b = pickle.load(fh)"
   ]
  },
  {
   "cell_type": "code",
   "execution_count": 6,
   "metadata": {},
   "outputs": [
    {
     "name": "stdout",
     "output_type": "stream",
     "text": [
      "KMeans(algorithm='auto', copy_x=True, init='random', max_iter=100,\n",
      "    n_clusters=12, n_init=1, n_jobs=1, precompute_distances='auto',\n",
      "    random_state=None, tol=0.0001, verbose=0)\n"
     ]
    }
   ],
   "source": [
    "print(b)"
   ]
  },
  {
   "cell_type": "code",
   "execution_count": 10,
   "metadata": {},
   "outputs": [
    {
     "data": {
      "text/plain": [
       "array([[ 2403,  4083,  5676, ..., 14702, 14703, 23771],\n",
       "       [ 2402,  1019, 14970, ..., 14641, 14642, 23771],\n",
       "       [ 2406,  8327,  4084, ..., 14286, 14287, 23771],\n",
       "       ..., \n",
       "       [ 2578, 13084, 23385, ..., 14091, 14092, 23771],\n",
       "       [15636, 14187,  4084, ..., 14346, 14347, 23771],\n",
       "       [ 3989, 15617,  3272, ..., 14413, 14414, 23771]])"
      ]
     },
     "execution_count": 10,
     "metadata": {},
     "output_type": "execute_result"
    }
   ],
   "source": [
    "model = b\n",
    "order_centroids= model.cluster_centers_.argsort()[:,::-1]\n",
    "order_centroids"
   ]
  },
  {
   "cell_type": "code",
   "execution_count": 12,
   "metadata": {},
   "outputs": [
    {
     "data": {
      "text/plain": [
       "TfidfVectorizer(analyzer='word', binary=False, decode_error='strict',\n",
       "        dtype=<class 'numpy.int64'>, encoding='utf-8', input='content',\n",
       "        lowercase=True, max_df=1.0, max_features=None, min_df=1,\n",
       "        ngram_range=(1, 1), norm='l2', preprocessor=None, smooth_idf=True,\n",
       "        stop_words='english', strip_accents=None, sublinear_tf=False,\n",
       "        token_pattern='(?u)\\\\b\\\\w\\\\w+\\\\b', tokenizer=None, use_idf=True,\n",
       "        vocabulary=None)"
      ]
     },
     "execution_count": 12,
     "metadata": {},
     "output_type": "execute_result"
    }
   ],
   "source": [
    "vectorizer = TfidfVectorizer(stop_words = 'english')\n",
    "vectorizer"
   ]
  },
  {
   "cell_type": "code",
   "execution_count": 14,
   "metadata": {
    "collapsed": true
   },
   "outputs": [],
   "source": [
    "filename = 'vectorizer.pk'\n",
    "with open(filename, 'rb') as fh:\n",
    "   c = pickle.load(fh)"
   ]
  },
  {
   "cell_type": "code",
   "execution_count": 16,
   "metadata": {},
   "outputs": [
    {
     "name": "stdout",
     "output_type": "stream",
     "text": [
      "Cluster 0\n",
      "blackberries\n",
      "cherries\n",
      "currants\n",
      "dry\n",
      "tannins\n",
      "flavors\n",
      "raspberries\n",
      "wine\n",
      "black\n",
      "rich\n",
      "sweet\n",
      "oak\n",
      "Cluster 1\n",
      "black\n",
      "alongside\n",
      "palate\n",
      "tannins\n",
      "aromas\n",
      "cherry\n",
      "offers\n",
      "pepper\n",
      "sangiovese\n",
      "opens\n",
      "delivers\n",
      "spice\n",
      "Cluster 2\n",
      "blackberry\n",
      "flavors\n",
      "cherry\n",
      "tannins\n",
      "currant\n",
      "dry\n",
      "wine\n",
      "sweet\n",
      "rich\n",
      "oak\n",
      "soft\n",
      "black\n",
      "Cluster 3\n",
      "fruit\n",
      "wine\n",
      "cherry\n",
      "flavors\n",
      "black\n",
      "palate\n",
      "aromas\n",
      "finish\n",
      "red\n",
      "nose\n",
      "tannins\n",
      "spice\n",
      "Cluster 4\n",
      "apple\n",
      "lemon\n",
      "lime\n",
      "palate\n",
      "citrus\n",
      "finish\n",
      "flavors\n",
      "peach\n",
      "riesling\n",
      "dry\n",
      "acidity\n",
      "nose\n",
      "Cluster 5\n",
      "cabernet\n",
      "sauvignon\n",
      "merlot\n",
      "blend\n",
      "franc\n",
      "verdot\n",
      "petit\n",
      "black\n",
      "malbec\n",
      "syrah\n",
      "cherry\n",
      "fruit\n",
      "Cluster 6\n",
      "berry\n",
      "aromas\n",
      "plum\n",
      "finish\n",
      "herbal\n",
      "flavors\n",
      "palate\n",
      "feels\n",
      "notes\n",
      "oak\n",
      "black\n",
      "red\n",
      "Cluster 7\n",
      "wine\n",
      "fruits\n",
      "wood\n",
      "drink\n",
      "tannins\n",
      "ripe\n",
      "aging\n",
      "fruit\n",
      "rich\n",
      "acidity\n",
      "firm\n",
      "structure\n",
      "Cluster 8\n",
      "wine\n",
      "acidity\n",
      "drink\n",
      "crisp\n",
      "fruity\n",
      "ready\n",
      "fruits\n",
      "attractive\n",
      "red\n",
      "soft\n",
      "ripe\n",
      "light\n",
      "Cluster 9\n",
      "bodied\n",
      "medium\n",
      "wine\n",
      "flavors\n",
      "texture\n",
      "fruit\n",
      "finish\n",
      "aromas\n",
      "cherry\n",
      "light\n",
      "oak\n",
      "black\n",
      "Cluster 10\n",
      "pinot\n",
      "noir\n",
      "cherry\n",
      "silky\n",
      "cola\n",
      "flavors\n",
      "raspberry\n",
      "dry\n",
      "acidity\n",
      "cherries\n",
      "drink\n",
      "wine\n",
      "Cluster 11\n",
      "chardonnay\n",
      "pineapple\n",
      "buttered\n",
      "flavors\n",
      "toast\n",
      "vanilla\n",
      "oak\n",
      "tropical\n",
      "acidity\n",
      "sweet\n",
      "fruit\n",
      "creamy\n",
      "\n",
      "\n",
      "Prediction\n",
      "[3]\n"
     ]
    }
   ],
   "source": [
    "vectorizer = c\n",
    "terms=vectorizer.get_feature_names()\n",
    "for i in range(true_k):\n",
    "    print(\"Cluster %d\" %i),\n",
    "    for ind in order_centroids[i,:12]:\n",
    "        print('%s'%terms[ind]),\n",
    "    print\n",
    "print(\"\\n\")\n",
    "print(\"Prediction\")\n",
    "Y=vectorizer.transform([\"zinfandel\"])\n",
    "prediction=model.predict(Y)\n",
    "print(prediction)"
   ]
  },
  {
   "cell_type": "code",
   "execution_count": 20,
   "metadata": {},
   "outputs": [
    {
     "name": "stderr",
     "output_type": "stream",
     "text": [
      "/Users/alexandriacabello/anaconda3/lib/python3.6/site-packages/ipykernel_launcher.py:1: SettingWithCopyWarning: \n",
      "A value is trying to be set on a copy of a slice from a DataFrame.\n",
      "Try using .loc[row_indexer,col_indexer] = value instead\n",
      "\n",
      "See the caveats in the documentation: http://pandas.pydata.org/pandas-docs/stable/indexing.html#indexing-view-versus-copy\n",
      "  \"\"\"Entry point for launching an IPython kernel.\n"
     ]
    }
   ],
   "source": [
    "v_df['cluster'] = model.labels_"
   ]
  },
  {
   "cell_type": "code",
   "execution_count": 39,
   "metadata": {},
   "outputs": [],
   "source": [
    "clusters = v_df.groupby(['cluster', 'variety']).size()\n",
    "fig2, ax2 = plt.subplots(figsize = (30, 15))\n",
    "sns.heatmap(clusters.unstack(level = 'variety'), ax = ax2, cmap = 'Blues')\n",
    "\n",
    "ax2.set_ylabel('K-Clusters', fontdict = {'size': 20})\n",
    "ax2.set_xlabel('Wine Varieties', fontdict = {'size': 20})\n",
    "\n",
    "for label in ax2.get_xticklabels():\n",
    "    label.set_weight(\"bold\")\n",
    "    label.set_size(20)\n",
    "for label in ax2.get_yticklabels():\n",
    "    label.set_weight(\"bold\")\n",
    "    label.set_size(20)\n",
    "        "
   ]
  },
  {
   "cell_type": "code",
   "execution_count": 40,
   "metadata": {},
   "outputs": [
    {
     "data": {
      "image/png": "[encoded data removed]",
      "text/plain": [
       "<matplotlib.figure.Figure at 0x11bf1f668>"
      ]
     },
     "metadata": {},
     "output_type": "display_data"
    }
   ],
   "source": [
    "plt.show()"
   ]
  },
  {
   "cell_type": "code",
   "execution_count": null,
   "metadata": {
    "collapsed": true
   },
   "outputs": [],
   "source": []
  }
 ],
 "metadata": {
  "kernelspec": {
   "display_name": "Python 3",
   "language": "python",
   "name": "python3"
  },
  "language_info": {
   "codemirror_mode": {
    "name": "ipython",
    "version": 3
   },
   "file_extension": ".py",
   "mimetype": "text/x-python",
   "name": "python",
   "nbconvert_exporter": "python",
   "pygments_lexer": "ipython3",
   "version": "3.6.3"
  }
 },
 "nbformat": 4,
 "nbformat_minor": 2
}
